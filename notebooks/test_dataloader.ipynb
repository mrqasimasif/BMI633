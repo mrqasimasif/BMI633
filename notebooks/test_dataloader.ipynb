{
 "cells": [
  {
   "cell_type": "code",
   "execution_count": 12,
   "id": "f0a4dd9b",
   "metadata": {},
   "outputs": [],
   "source": [
    "import sys\n",
    "sys.path.append(\"../src\")\n",
    "sys.path.append(\"../models\")"
   ]
  },
  {
   "cell_type": "code",
   "execution_count": 13,
   "id": "218abbc3",
   "metadata": {},
   "outputs": [
    {
     "name": "stdout",
     "output_type": "stream",
     "text": [
      "torch.Size([64, 8632]) tensor([4, 4, 2, 2, 4])\n"
     ]
    }
   ],
   "source": [
    "from utils import get_dataloader\n",
    "\n",
    "loader = get_dataloader(\"yan\")\n",
    "X, y = next(iter(loader))\n",
    "print(X.shape, y[:5])"
   ]
  },
  {
   "cell_type": "code",
   "execution_count": 8,
   "id": "2aa24b26",
   "metadata": {},
   "outputs": [
    {
     "name": "stdout",
     "output_type": "stream",
     "text": [
      "torch.Size([64, 1499]) tensor([8, 9, 6, 5, 9])\n"
     ]
    }
   ],
   "source": [
    "loader = get_dataloader(\"pbmc68k\")\n",
    "X, y = next(iter(loader))\n",
    "print(X.shape, y[:5])\n"
   ]
  },
  {
   "cell_type": "code",
   "execution_count": null,
   "id": "47e816bc",
   "metadata": {},
   "outputs": [],
   "source": []
  }
 ],
 "metadata": {
  "kernelspec": {
   "display_name": "Python 3",
   "language": "python",
   "name": "python3"
  },
  "language_info": {
   "codemirror_mode": {
    "name": "ipython",
    "version": 3
   },
   "file_extension": ".py",
   "mimetype": "text/x-python",
   "name": "python",
   "nbconvert_exporter": "python",
   "pygments_lexer": "ipython3",
   "version": "3.13.2"
  }
 },
 "nbformat": 4,
 "nbformat_minor": 5
}
