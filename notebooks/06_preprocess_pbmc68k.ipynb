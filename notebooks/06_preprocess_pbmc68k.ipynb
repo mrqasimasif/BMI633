{
 "cells": [
  {
   "cell_type": "code",
   "execution_count": 1,
   "id": "54b18bb8",
   "metadata": {},
   "outputs": [],
   "source": [
    "import scanpy as sc\n",
    "import pandas as pd"
   ]
  },
  {
   "cell_type": "code",
   "execution_count": null,
   "id": "4cd119f5",
   "metadata": {},
   "outputs": [
    {
     "data": {
      "text/plain": [
       "AnnData object with n_obs × n_vars = 68579 × 32738\n",
       "    var: 'gene_ids'"
      ]
     },
     "execution_count": 2,
     "metadata": {},
     "output_type": "execute_result"
    }
   ],
   "source": [
    "# reading the expression matrix\n",
    "adata = sc.read_10x_mtx(\n",
    "    \"../data/raw/pbmc68k/filtered_matrices_mex/hg19\",  # or path to where you extract the files\n",
    "    var_names='gene_symbols',\n",
    "    cache=True\n",
    ")\n",
    "adata.var_names_make_unique()\n",
    "\n",
    "adata\n",
    "\n",
    "#obs are cells\n",
    "#vars are genes"
   ]
  },
  {
   "cell_type": "code",
   "execution_count": 3,
   "id": "4e1e5a69",
   "metadata": {},
   "outputs": [],
   "source": [
    "# reading the annotation\n",
    "annotations = pd.read_csv(\n",
    "    \"../data/raw/pbmc68k/68k_pbmc_barcodes_annotation.tsv\",\n",
    "    sep=\"\\t\"\n",
    ")"
   ]
  },
  {
   "cell_type": "code",
   "execution_count": 4,
   "id": "50674d90",
   "metadata": {},
   "outputs": [
    {
     "data": {
      "text/plain": [
       "Index(['AAACATACACCCAA-1', 'AAACATACCCCTCA-1', 'AAACATACCGGAGA-1',\n",
       "       'AAACATACTAACCG-1', 'AAACATACTCTTCA-1', 'AAACATACTGGATC-1',\n",
       "       'AAACATACTGTCTT-1', 'AAACATACTTCTAC-1', 'AAACATTGCTGCTC-1',\n",
       "       'AAACATTGCTTCGC-1',\n",
       "       ...\n",
       "       'TTTGACTGCTTTAC-8', 'TTTGACTGTATCGG-8', 'TTTGACTGTCGTTT-8',\n",
       "       'TTTGACTGTGCTAG-8', 'TTTGCATGACACCA-8', 'TTTGCATGAGCCTA-8',\n",
       "       'TTTGCATGCTAGCA-8', 'TTTGCATGCTGCAA-8', 'TTTGCATGGCTCCT-8',\n",
       "       'TTTGCATGTGGTAC-8'],\n",
       "      dtype='object', length=68579)"
      ]
     },
     "execution_count": 4,
     "metadata": {},
     "output_type": "execute_result"
    }
   ],
   "source": [
    "adata.obs.index"
   ]
  },
  {
   "cell_type": "code",
   "execution_count": 5,
   "id": "18c7aa10",
   "metadata": {},
   "outputs": [],
   "source": [
    "adata.obs = adata.obs.merge(\n",
    "    annotations[[\"barcodes\", \"celltype\"]],\n",
    "    left_index=True,\n",
    "    right_on=\"barcodes\",\n",
    "    how=\"left\"\n",
    ")\n"
   ]
  },
  {
   "cell_type": "code",
   "execution_count": 6,
   "id": "c19bcd0f",
   "metadata": {},
   "outputs": [],
   "source": [
    "# Rename for consistency\n",
    "adata.obs.rename(columns={\"celltype\": \"cell_type\"}, inplace=True)\n",
    "\n",
    "adata.obs.index = adata.obs[\"barcodes\"]\n",
    "adata.obs.drop(columns=[\"barcodes\"], inplace=True)\n"
   ]
  },
  {
   "cell_type": "code",
   "execution_count": 8,
   "id": "b52dc1b7",
   "metadata": {},
   "outputs": [
    {
     "data": {
      "text/plain": [
       "11"
      ]
     },
     "execution_count": 8,
     "metadata": {},
     "output_type": "execute_result"
    }
   ],
   "source": [
    "len(adata.obs['cell_type'].unique())"
   ]
  },
  {
   "cell_type": "code",
   "execution_count": 72,
   "id": "2c5285d8",
   "metadata": {},
   "outputs": [
    {
     "name": "stderr",
     "output_type": "stream",
     "text": [
      "/pscratch/lji226_uksr/DMNN/.dtnn_env/lib/python3.13/site-packages/scanpy/preprocessing/_scale.py:317: UserWarning: Received a view of an AnnData. Making a copy.\n",
      "  view_to_actual(adata)\n"
     ]
    }
   ],
   "source": [
    "# Basic filtering and processing\n",
    "sc.pp.filter_cells(adata, min_genes=200)\n",
    "sc.pp.filter_genes(adata, min_cells=3)\n",
    "sc.pp.normalize_total(adata, target_sum=1e4)\n",
    "sc.pp.log1p(adata)\n",
    "sc.pp.highly_variable_genes(adata, min_mean=0.0125, max_mean=3, min_disp=0.5)\n",
    "adata = adata[:, adata.var.highly_variable]\n",
    "sc.pp.scale(adata, max_value=10)"
   ]
  },
  {
   "cell_type": "code",
   "execution_count": 73,
   "id": "6c09ae6e",
   "metadata": {},
   "outputs": [
    {
     "name": "stdout",
     "output_type": "stream",
     "text": [
      "✅ PBMC68K dataset processed and saved: (68551, 1499)\n"
     ]
    }
   ],
   "source": [
    "# Save processed file\n",
    "adata.write(\"../data/processed/pbmc68k.h5ad\")\n",
    "print(\"✅ PBMC68K dataset processed and saved:\", adata.shape)\n"
   ]
  },
  {
   "cell_type": "code",
   "execution_count": null,
   "id": "c7080b20",
   "metadata": {},
   "outputs": [],
   "source": []
  }
 ],
 "metadata": {
  "kernelspec": {
   "display_name": "Python 3",
   "language": "python",
   "name": "python3"
  },
  "language_info": {
   "codemirror_mode": {
    "name": "ipython",
    "version": 3
   },
   "file_extension": ".py",
   "mimetype": "text/x-python",
   "name": "python",
   "nbconvert_exporter": "python",
   "pygments_lexer": "ipython3",
   "version": "3.13.2"
  }
 },
 "nbformat": 4,
 "nbformat_minor": 5
}
