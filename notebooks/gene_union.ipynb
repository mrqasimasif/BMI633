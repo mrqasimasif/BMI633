{
 "cells": [
  {
   "cell_type": "code",
   "execution_count": 1,
   "id": "c6ad71a2",
   "metadata": {},
   "outputs": [],
   "source": [
    "import scanpy as sc"
   ]
  },
  {
   "cell_type": "code",
   "execution_count": 8,
   "id": "d012667b",
   "metadata": {},
   "outputs": [],
   "source": [
    "# Run this before getting intersections\n",
    "def clean_gene_names(adata):\n",
    "    adata.var_names = adata.var_names.str.upper()  # consistent casing\n",
    "    adata.var_names = adata.var_names.str.split(\".\").str[0]  # remove versioning\n",
    "    adata.var_names = adata.var_names.str.strip()\n",
    "    adata.var_names_make_unique()\n",
    "    return adata\n"
   ]
  },
  {
   "cell_type": "code",
   "execution_count": 9,
   "id": "ecbcc17b",
   "metadata": {},
   "outputs": [
    {
     "name": "stderr",
     "output_type": "stream",
     "text": [
      "/pscratch/lji226_uksr/DMNN/.dtnn_env/lib/python3.13/site-packages/anndata/_core/anndata.py:1758: UserWarning: Variable names are not unique. To make them unique, call `.var_names_make_unique`.\n",
      "  utils.warn_names_duplicates(\"var\")\n"
     ]
    },
    {
     "name": "stdout",
     "output_type": "stream",
     "text": [
      "✅ Common genes across all datasets: 0\n"
     ]
    }
   ],
   "source": [
    "files = [\n",
    "    \"../data/processed/yan.h5ad\",\n",
    "    \"../data/processed/pbmc68k.h5ad\",\n",
    "    \"../data/processed/cbmc.h5ad\",\n",
    "    \"../data/processed/goolam.h5ad\",\n",
    "    \"../data/processed/melanoma.h5ad\",\n",
    "    \"../data/processed/klein_mouse.h5ad\",\n",
    "    \"../data/processed/klein_human.h5ad\",\n",
    "]\n",
    "\n",
    "all_genes = []\n",
    "for path in files:\n",
    "    adata = sc.read_h5ad(path)\n",
    "    adata = clean_gene_names(adata)\n",
    "    all_genes.append(set(adata.var_names))\n",
    "\n",
    "common_genes = sorted(set.intersection(*all_genes))\n",
    "print(f\"✅ Common genes across all datasets: {len(common_genes)}\")\n"
   ]
  },
  {
   "cell_type": "code",
   "execution_count": null,
   "id": "abe9984c",
   "metadata": {},
   "outputs": [],
   "source": []
  }
 ],
 "metadata": {
  "kernelspec": {
   "display_name": "Python 3",
   "language": "python",
   "name": "python3"
  },
  "language_info": {
   "codemirror_mode": {
    "name": "ipython",
    "version": 3
   },
   "file_extension": ".py",
   "mimetype": "text/x-python",
   "name": "python",
   "nbconvert_exporter": "python",
   "pygments_lexer": "ipython3",
   "version": "3.13.2"
  }
 },
 "nbformat": 4,
 "nbformat_minor": 5
}
