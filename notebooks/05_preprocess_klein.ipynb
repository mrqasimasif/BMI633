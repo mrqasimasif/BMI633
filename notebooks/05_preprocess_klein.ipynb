{
 "cells": [
  {
   "cell_type": "code",
   "execution_count": 2,
   "id": "2110afbb",
   "metadata": {},
   "outputs": [],
   "source": [
    "import pandas as pd\n",
    "import scanpy as sc\n",
    "import bz2\n"
   ]
  },
  {
   "cell_type": "code",
   "execution_count": 5,
   "id": "7b680cf5",
   "metadata": {},
   "outputs": [],
   "source": [
    "\n",
    "# Helper function to load bz2 csv\n",
    "def load_bz2_csv(file_path):\n",
    "    with bz2.open(file_path, 'rt') as f:\n",
    "        df = pd.read_csv(f, index_col=0)\n",
    "    return df\n",
    "\n",
    "# Example\n",
    "# df_d0 = load_bz2_csv(\"/pscratch/lji226_uksr/DMNN/data/raw/klein/GSM1599495_ES_d0_biorep_techrep1.csv.bz2\")\n",
    "# print(df_d0.shape)"
   ]
  },
  {
   "cell_type": "code",
   "execution_count": 9,
   "id": "a6bc431c",
   "metadata": {},
   "outputs": [],
   "source": [
    "dfs = []\n",
    "\n",
    "# Load multiple samples\n",
    "dataset_mouse = {\n",
    "    \"../data/raw/klein/GSM1599494_ES_d0_main.csv\": \"d0\",\n",
    "    # \"../data/raw/klein/GSM1599495_ES_d0_biorep_techrep1.csv.bz2\": \"d0_rep1\",\n",
    "    # \"../data/raw/klein/GSM1599496_ES_d0_biorep_techrep2.csv.bz2\": \"d0_rep2\",\n",
    "    \"../data/raw/klein/GSM1599497_ES_d2_LIFminus.csv\": \"d2\",\n",
    "    \"../data/raw/klein/GSM1599498_ES_d4_LIFminus.csv\": \"d4\",\n",
    "    \"../data/raw/klein/GSM1599499_ES_d7_LIFminus.csv\": \"d7\",\n",
    "}\n",
    "\n",
    "dataset_human = {\n",
    "    \"../data/raw/klein/GSM1599500_K562_cells.csv\": \"K562\"\n",
    "}\n",
    "\n",
    "klein_files = {\n",
    "    \"d0\": [\"GSM1599494_ES_d0_main.csv\"],\n",
    "    \"d2\": [\"GSM1599497_ES_d2_LIFminus.csv\"],\n",
    "    \"d4\": [\"GSM1599498_ES_d4_LIFminus.csv\"],\n",
    "    \"d7\": [\"GSM1599499_ES_d7_LIFminus.csv\"]\n",
    "}\n"
   ]
  },
  {
   "cell_type": "code",
   "execution_count": 84,
   "id": "7e5de49e",
   "metadata": {},
   "outputs": [
    {
     "data": {
      "text/plain": [
       "[AnnData object with n_obs × n_vars = 933 × 24174,\n",
       " AnnData object with n_obs × n_vars = 303 × 24174,\n",
       " AnnData object with n_obs × n_vars = 683 × 24174,\n",
       " AnnData object with n_obs × n_vars = 798 × 24174]"
      ]
     },
     "execution_count": 84,
     "metadata": {},
     "output_type": "execute_result"
    }
   ],
   "source": [
    "adata_list = []\n",
    "\n",
    "# Merge\n",
    "for fname, label in dataset_mouse.items():\n",
    "    # with bz2.open(fname, \"rt\") as f:\n",
    "    #     df = pd.read_csv(f, index_col=0)\n",
    "    #df = load_bz2_csv(fname)\n",
    "    \n",
    "    df = pd.read_csv(fname, index_col=0)\n",
    "    # Transpose to cells x genes\n",
    "    df = df.T\n",
    "    adata = sc.AnnData(df)\n",
    "    #adata.obs['stage'] = label\n",
    "    \n",
    "    # # Set unique cell names\n",
    "    adata.obs_names = [f\"{label}_{i}\" for i in range(adata.shape[0])]\n",
    "    adata_list.append(adata)\n",
    "\n",
    "adata_list\n"
   ]
  },
  {
   "cell_type": "code",
   "execution_count": 100,
   "id": "0ee86123",
   "metadata": {},
   "outputs": [
    {
     "name": "stderr",
     "output_type": "stream",
     "text": [
      "/tmp/ipykernel_3472717/3371924242.py:2: FutureWarning: Use anndata.concat instead of AnnData.concatenate, AnnData.concatenate is deprecated and will be removed in the future. See the tutorial for concat at: https://anndata.readthedocs.io/en/latest/concatenation.html\n",
      "  adata = adata_list[0].concatenate(adata_list[1:], batch_key=\"batch\", batch_categories=list(dataset_mouse.values()))\n"
     ]
    }
   ],
   "source": [
    "# Merge all samples\n",
    "adata = adata_list[0].concatenate(adata_list[1:], batch_key=\"batch\", batch_categories=list(dataset_mouse.values()))\n",
    "\n",
    "\n",
    "# Step 4: Rename cells\n",
    "#adata.columns = [f\"cell{i+1}\" for i in range(adata.shape[1])]\n"
   ]
  },
  {
   "cell_type": "code",
   "execution_count": 101,
   "id": "dbabd8f1",
   "metadata": {},
   "outputs": [
    {
     "data": {
      "text/plain": [
       "Index(['d0_0-d0', 'd0_1-d0', 'd0_2-d0', 'd0_3-d0', 'd0_4-d0', 'd0_5-d0',\n",
       "       'd0_6-d0', 'd0_7-d0', 'd0_8-d0', 'd0_9-d0',\n",
       "       ...\n",
       "       'd7_788-d7', 'd7_789-d7', 'd7_790-d7', 'd7_791-d7', 'd7_792-d7',\n",
       "       'd7_793-d7', 'd7_794-d7', 'd7_795-d7', 'd7_796-d7', 'd7_797-d7'],\n",
       "      dtype='object', length=2717)"
      ]
     },
     "execution_count": 101,
     "metadata": {},
     "output_type": "execute_result"
    }
   ],
   "source": [
    "\n",
    "adata.obs.index"
   ]
  },
  {
   "cell_type": "code",
   "execution_count": 104,
   "id": "c9a280f6",
   "metadata": {},
   "outputs": [],
   "source": [
    "adata.obs.drop(columns=[\"batch\"],inplace=True)"
   ]
  },
  {
   "cell_type": "code",
   "execution_count": 105,
   "id": "3ae889ae",
   "metadata": {},
   "outputs": [
    {
     "data": {
      "text/html": [
       "<div>\n",
       "<style scoped>\n",
       "    .dataframe tbody tr th:only-of-type {\n",
       "        vertical-align: middle;\n",
       "    }\n",
       "\n",
       "    .dataframe tbody tr th {\n",
       "        vertical-align: top;\n",
       "    }\n",
       "\n",
       "    .dataframe thead th {\n",
       "        text-align: right;\n",
       "    }\n",
       "</style>\n",
       "<table border=\"1\" class=\"dataframe\">\n",
       "  <thead>\n",
       "    <tr style=\"text-align: right;\">\n",
       "      <th></th>\n",
       "    </tr>\n",
       "  </thead>\n",
       "  <tbody>\n",
       "    <tr>\n",
       "      <th>d0_0-d0</th>\n",
       "    </tr>\n",
       "    <tr>\n",
       "      <th>d0_1-d0</th>\n",
       "    </tr>\n",
       "    <tr>\n",
       "      <th>d0_2-d0</th>\n",
       "    </tr>\n",
       "    <tr>\n",
       "      <th>d0_3-d0</th>\n",
       "    </tr>\n",
       "    <tr>\n",
       "      <th>d0_4-d0</th>\n",
       "    </tr>\n",
       "    <tr>\n",
       "      <th>...</th>\n",
       "    </tr>\n",
       "    <tr>\n",
       "      <th>d7_793-d7</th>\n",
       "    </tr>\n",
       "    <tr>\n",
       "      <th>d7_794-d7</th>\n",
       "    </tr>\n",
       "    <tr>\n",
       "      <th>d7_795-d7</th>\n",
       "    </tr>\n",
       "    <tr>\n",
       "      <th>d7_796-d7</th>\n",
       "    </tr>\n",
       "    <tr>\n",
       "      <th>d7_797-d7</th>\n",
       "    </tr>\n",
       "  </tbody>\n",
       "</table>\n",
       "<p>2717 rows × 0 columns</p>\n",
       "</div>"
      ],
      "text/plain": [
       "Empty DataFrame\n",
       "Columns: []\n",
       "Index: [d0_0-d0, d0_1-d0, d0_2-d0, d0_3-d0, d0_4-d0, d0_5-d0, d0_6-d0, d0_7-d0, d0_8-d0, d0_9-d0, d0_10-d0, d0_11-d0, d0_12-d0, d0_13-d0, d0_14-d0, d0_15-d0, d0_16-d0, d0_17-d0, d0_18-d0, d0_19-d0, d0_20-d0, d0_21-d0, d0_22-d0, d0_23-d0, d0_24-d0, d0_25-d0, d0_26-d0, d0_27-d0, d0_28-d0, d0_29-d0, d0_30-d0, d0_31-d0, d0_32-d0, d0_33-d0, d0_34-d0, d0_35-d0, d0_36-d0, d0_37-d0, d0_38-d0, d0_39-d0, d0_40-d0, d0_41-d0, d0_42-d0, d0_43-d0, d0_44-d0, d0_45-d0, d0_46-d0, d0_47-d0, d0_48-d0, d0_49-d0, d0_50-d0, d0_51-d0, d0_52-d0, d0_53-d0, d0_54-d0, d0_55-d0, d0_56-d0, d0_57-d0, d0_58-d0, d0_59-d0, d0_60-d0, d0_61-d0, d0_62-d0, d0_63-d0, d0_64-d0, d0_65-d0, d0_66-d0, d0_67-d0, d0_68-d0, d0_69-d0, d0_70-d0, d0_71-d0, d0_72-d0, d0_73-d0, d0_74-d0, d0_75-d0, d0_76-d0, d0_77-d0, d0_78-d0, d0_79-d0, d0_80-d0, d0_81-d0, d0_82-d0, d0_83-d0, d0_84-d0, d0_85-d0, d0_86-d0, d0_87-d0, d0_88-d0, d0_89-d0, d0_90-d0, d0_91-d0, d0_92-d0, d0_93-d0, d0_94-d0, d0_95-d0, d0_96-d0, d0_97-d0, d0_98-d0, d0_99-d0, ...]\n",
       "\n",
       "[2717 rows x 0 columns]"
      ]
     },
     "execution_count": 105,
     "metadata": {},
     "output_type": "execute_result"
    }
   ],
   "source": [
    "adata.obs"
   ]
  },
  {
   "cell_type": "code",
   "execution_count": null,
   "id": "8e477d40",
   "metadata": {},
   "outputs": [],
   "source": [
    "# alternate\n",
    "\n",
    "import numpy as np\n",
    "from pathlib import Path\n",
    "\n",
    "# Step 1: Read the CSVs\n",
    "klein_path = \"../data/raw/klein\"  # update if needed\n",
    "d0 = pd.read_csv(f\"{klein_path}/GSM1599494_ES_d0_main.csv\", header=None)\n",
    "d2 = pd.read_csv(f\"{klein_path}/GSM1599497_ES_d2_LIFminus.csv\", header=None)\n",
    "d4 = pd.read_csv(f\"{klein_path}/GSM1599498_ES_d4_LIFminus.csv\", header=None)\n",
    "d7 = pd.read_csv(f\"{klein_path}/GSM1599499_ES_d7_LIFminus.csv\", header=None)\n",
    "\n",
    "# Step 2: Merge like in R: keep genes from d0, add only expression columns from d2-d7\n",
    "d_all = pd.concat([\n",
    "    d0,\n",
    "    d2.iloc[:, 1:],\n",
    "    d4.iloc[:, 1:],\n",
    "    d7.iloc[:, 1:]\n",
    "], axis=1)\n",
    "\n",
    "# Step 3: Set gene names as index\n",
    "d_all.index = d_all.iloc[:, 0]\n",
    "d_all = d_all.iloc[:, 1:]\n",
    "\n",
    "# Step 4: Rename cells\n",
    "d_all.columns = [f\"cell{i+1}\" for i in range(d_all.shape[1])]\n",
    "\n",
    "# Step 5: Create obs (annotation for each cell)\n",
    "ann = pd.DataFrame({\n",
    "    \"stage\": (\n",
    "        [\"d0\"] * (d0.shape[1] - 1) +\n",
    "        [\"d2\"] * (d2.shape[1] - 1) +\n",
    "        [\"d4\"] * (d4.shape[1] - 1) +\n",
    "        [\"d7\"] * (d7.shape[1] - 1)\n",
    "    )\n",
    "}, index=d_all.columns)\n",
    "\n",
    "# Step 6: Create AnnData object\n",
    "adata = sc.AnnData(X=d_all.transpose(), obs=ann)\n",
    "\n",
    "# Step 7: Make gene names unique and save\n",
    "adata.obs_names_make_unique()\n",
    "\n"
   ]
  },
  {
   "cell_type": "code",
   "execution_count": 78,
   "id": "c5207830",
   "metadata": {},
   "outputs": [
    {
     "data": {
      "text/plain": [
       "AnnData object with n_obs × n_vars = 2717 × 24175\n",
       "    obs: 'stage'"
      ]
     },
     "execution_count": 78,
     "metadata": {},
     "output_type": "execute_result"
    }
   ],
   "source": [
    "adata"
   ]
  },
  {
   "cell_type": "code",
   "execution_count": 58,
   "id": "fcbcbc56",
   "metadata": {},
   "outputs": [
    {
     "name": "stderr",
     "output_type": "stream",
     "text": [
      "/pscratch/lji226_uksr/DMNN/.dtnn_env/lib/python3.13/site-packages/scanpy/preprocessing/_scale.py:317: UserWarning: Received a view of an AnnData. Making a copy.\n",
      "  view_to_actual(adata)\n"
     ]
    }
   ],
   "source": [
    "# Preprocessing\n",
    "sc.pp.filter_cells(adata, min_genes=200)\n",
    "sc.pp.filter_genes(adata, min_cells=3)\n",
    "sc.pp.normalize_total(adata, target_sum=1e4)\n",
    "sc.pp.log1p(adata)\n",
    "sc.pp.highly_variable_genes(adata, min_mean=0.0125, max_mean=3, min_disp=0.5)\n",
    "adata = adata[:, adata.var.highly_variable]\n",
    "sc.pp.scale(adata, max_value=10)"
   ]
  },
  {
   "cell_type": "code",
   "execution_count": 106,
   "id": "30fa991a",
   "metadata": {},
   "outputs": [
    {
     "name": "stdout",
     "output_type": "stream",
     "text": [
      "✅ Klein dataset processed: (2717, 24174)\n"
     ]
    }
   ],
   "source": [
    "# Save\n",
    "adata.write(\"../data/processed/klein_mouse.h5ad\")\n",
    "print(\"✅ Klein dataset processed:\", adata.shape)\n"
   ]
  },
  {
   "cell_type": "code",
   "execution_count": 36,
   "id": "b42d65cd",
   "metadata": {},
   "outputs": [
    {
     "data": {
      "text/plain": [
       "AnnData object with n_obs × n_vars = 239 × 25435\n",
       "    obs: 'stage'"
      ]
     },
     "execution_count": 36,
     "metadata": {},
     "output_type": "execute_result"
    }
   ],
   "source": [
    "# Human\n",
    "\n",
    "df = load_bz2_csv(\"/pscratch/lji226_uksr/DMNN/data/raw/klein/GSM1599500_K562_cells.csv.bz2\")\n",
    "\n",
    "df = df.T\n",
    "df['stage'] = \"K562\"\n",
    "\n",
    "adata = []\n",
    "adata = sc.AnnData(df.drop(columns='stage'))\n",
    "adata.obs['stage'] = \"K562\"\n",
    "adata"
   ]
  },
  {
   "cell_type": "code",
   "execution_count": null,
   "id": "cb782148",
   "metadata": {},
   "outputs": [
    {
     "name": "stderr",
     "output_type": "stream",
     "text": [
      "/pscratch/lji226_uksr/DMNN/.dtnn_env/lib/python3.13/site-packages/scanpy/preprocessing/_scale.py:317: UserWarning: Received a view of an AnnData. Making a copy.\n",
      "  view_to_actual(adata)\n"
     ]
    }
   ],
   "source": [
    "# Basic filtering and processing\n",
    "sc.pp.filter_cells(adata, min_genes=200)\n",
    "sc.pp.filter_genes(adata, min_cells=3)\n",
    "sc.pp.normalize_total(adata, target_sum=1e4)\n",
    "sc.pp.log1p(adata)\n",
    "sc.pp.highly_variable_genes(adata, min_mean=0.0125, max_mean=3, min_disp=0.5)\n",
    "adata = adata[:, adata.var.highly_variable]\n",
    "sc.pp.scale(adata, max_value=10)\n"
   ]
  },
  {
   "cell_type": "code",
   "execution_count": 38,
   "id": "c0fa0981",
   "metadata": {},
   "outputs": [
    {
     "name": "stdout",
     "output_type": "stream",
     "text": [
      "✅ Klein Human dataset processed and saved: (239, 6101)\n"
     ]
    }
   ],
   "source": [
    "\n",
    "# Save processed file\n",
    "adata.write(\"../data/processed/klein_human.h5ad\")\n",
    "print(\"✅ Klein Human dataset processed and saved:\", adata.shape)"
   ]
  },
  {
   "cell_type": "code",
   "execution_count": null,
   "id": "b3c5d022",
   "metadata": {},
   "outputs": [],
   "source": []
  }
 ],
 "metadata": {
  "kernelspec": {
   "display_name": "Python 3",
   "language": "python",
   "name": "python3"
  },
  "language_info": {
   "codemirror_mode": {
    "name": "ipython",
    "version": 3
   },
   "file_extension": ".py",
   "mimetype": "text/x-python",
   "name": "python",
   "nbconvert_exporter": "python",
   "pygments_lexer": "ipython3",
   "version": "3.13.2"
  }
 },
 "nbformat": 4,
 "nbformat_minor": 5
}
