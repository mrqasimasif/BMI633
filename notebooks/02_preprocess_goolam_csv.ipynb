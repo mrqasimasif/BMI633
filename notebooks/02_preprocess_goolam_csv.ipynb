{
 "cells": [
  {
   "cell_type": "code",
   "execution_count": 1,
   "id": "2e43cc17",
   "metadata": {},
   "outputs": [],
   "source": [
    "import scanpy as sc\n",
    "import pandas as pd\n"
   ]
  },
  {
   "cell_type": "code",
   "execution_count": 3,
   "id": "c43f242f",
   "metadata": {},
   "outputs": [],
   "source": [
    "# Load the expression matrix (genes × cells)\n",
    "df = pd.read_csv(\"../data/raw/goolam/Goolam_et_al_2015_count_table.tsv\", sep=\"\\t\", index_col=0)\n",
    "\n",
    "# Transpose to match Scanpy format: cells × genes\n",
    "adata = sc.AnnData(df.T)"
   ]
  },
  {
   "cell_type": "code",
   "execution_count": null,
   "id": "301df61f",
   "metadata": {},
   "outputs": [],
   "source": [
    "# NOT Added\n",
    "# Add dummy or placeholder cell types if not available yet\n",
    "# (Optional: parse from SDRF file if needed later)\n",
    "adata.obs['cell_type'] = 'unknown'\n"
   ]
  },
  {
   "cell_type": "code",
   "execution_count": 4,
   "id": "d9874cca",
   "metadata": {},
   "outputs": [
    {
     "name": "stderr",
     "output_type": "stream",
     "text": [
      "/pscratch/lji226_uksr/DMNN/.dtnn_env/lib/python3.13/site-packages/scanpy/preprocessing/_scale.py:317: UserWarning: Received a view of an AnnData. Making a copy.\n",
      "  view_to_actual(adata)\n"
     ]
    }
   ],
   "source": [
    "\n",
    "# Filter genes and cells\n",
    "sc.pp.filter_cells(adata, min_genes=200)\n",
    "sc.pp.filter_genes(adata, min_cells=3)\n",
    "\n",
    "# Normalize and log-transform\n",
    "sc.pp.normalize_total(adata, target_sum=1e4)\n",
    "sc.pp.log1p(adata)\n",
    "\n",
    "# Highly variable genes (optional)\n",
    "sc.pp.highly_variable_genes(adata, min_mean=0.0125, max_mean=3, min_disp=0.5)\n",
    "adata = adata[:, adata.var.highly_variable]\n",
    "\n",
    "# Scale the data\n",
    "sc.pp.scale(adata, max_value=10)\n"
   ]
  },
  {
   "cell_type": "code",
   "execution_count": 5,
   "id": "5c0fc251",
   "metadata": {},
   "outputs": [
    {
     "name": "stdout",
     "output_type": "stream",
     "text": [
      "😍 Goolam preprocessing complete. Final shape: (124, 6887)\n"
     ]
    }
   ],
   "source": [
    "# Save to disk\n",
    "adata.write(\"../data/processed/goolam.h5ad\")\n",
    "\n",
    "print(\"😍 Goolam preprocessing complete. Final shape:\", adata.shape)\n"
   ]
  },
  {
   "cell_type": "code",
   "execution_count": null,
   "id": "61ef09cf",
   "metadata": {},
   "outputs": [],
   "source": []
  }
 ],
 "metadata": {
  "kernelspec": {
   "display_name": "Python 3",
   "language": "python",
   "name": "python3"
  },
  "language_info": {
   "codemirror_mode": {
    "name": "ipython",
    "version": 3
   },
   "file_extension": ".py",
   "mimetype": "text/x-python",
   "name": "python",
   "nbconvert_exporter": "python",
   "pygments_lexer": "ipython3",
   "version": "3.13.2"
  }
 },
 "nbformat": 4,
 "nbformat_minor": 5
}
