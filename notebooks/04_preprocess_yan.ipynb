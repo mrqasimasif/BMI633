{
 "cells": [
  {
   "cell_type": "code",
   "execution_count": 1,
   "id": "0b8ef092",
   "metadata": {},
   "outputs": [],
   "source": [
    "import scanpy as sc\n",
    "import pandas as pd\n",
    "from scipy import io"
   ]
  },
  {
   "cell_type": "code",
   "execution_count": 3,
   "id": "3d03ea96",
   "metadata": {},
   "outputs": [
    {
     "data": {
      "text/plain": [
       "AnnData object with n_obs × n_vars = 115 × 28549"
      ]
     },
     "execution_count": 3,
     "metadata": {},
     "output_type": "execute_result"
    }
   ],
   "source": [
    "# Step 1: Read the matrix\n",
    "adata = sc.AnnData(X=io.mmread(\"../data/raw/yan/E-GEOD-36552.expression_tpm.mtx\").T.tocsr())\n",
    "\n",
    "# Step 2: Read the cell and gene names\n",
    "with open(\"../data/raw/yan/E-GEOD-36552.expression_tpm.mtx_cols\") as f:\n",
    "    adata.obs_names = [line.strip() for line in f]\n",
    "\n",
    "with open(\"../data/raw/yan/E-GEOD-36552.expression_tpm.mtx_rows\") as f:\n",
    "    adata.var_names = [line.strip() for line in f]\n",
    "\n",
    "# Ensure gene names are unique\n",
    "adata.var_names_make_unique()\n",
    "\n",
    "adata\n"
   ]
  },
  {
   "cell_type": "code",
   "execution_count": 9,
   "id": "7b04e835",
   "metadata": {},
   "outputs": [
    {
     "data": {
      "text/plain": [
       "6"
      ]
     },
     "execution_count": 9,
     "metadata": {},
     "output_type": "execute_result"
    }
   ],
   "source": [
    "# metadata for cell_type labeling\n",
    "metadata = pd.read_csv(\"../data/raw/yan/ExpDesign-E-GEOD-36552.tsv\", sep=\"\\t\")\n",
    "\n",
    "metadata = metadata[[\"Assay\", \"Sample Characteristic[cell type]\"]]\n",
    "metadata.columns = [\"cell_id\", \"cell_type\"]\n",
    "\n",
    "len(metadata['cell_type'].unique())"
   ]
  },
  {
   "cell_type": "code",
   "execution_count": null,
   "id": "b90bb5fc",
   "metadata": {},
   "outputs": [
    {
     "name": "stdout",
     "output_type": "stream",
     "text": [
      "{'SRR445721', 'SRR445722', 'SRR445720', 'SRR445718', 'SRR445719'}\n",
      "{'SRR445721', 'SRR445722', 'SRR445720', 'SRR445718', 'SRR445719'}\n"
     ]
    }
   ],
   "source": [
    "# Sanity check for match\n",
    "print(set(adata.obs_names[:5]))\n",
    "print(set(metadata[\"cell_id\"][:5]))"
   ]
  },
  {
   "cell_type": "code",
   "execution_count": 7,
   "id": "fe997451",
   "metadata": {},
   "outputs": [
    {
     "data": {
      "text/plain": [
       "AnnData object with n_obs × n_vars = 115 × 28549\n",
       "    obs: 'cell_type'"
      ]
     },
     "execution_count": 7,
     "metadata": {},
     "output_type": "execute_result"
    }
   ],
   "source": [
    "# Ensure all are strings\n",
    "adata.obs_names = adata.obs_names.astype(str)\n",
    "metadata[\"cell_id\"] = metadata[\"cell_id\"].astype(str)\n",
    "\n",
    "# Map the cell types\n",
    "adata.obs[\"cell_type\"] = adata.obs_names.map(metadata.set_index(\"cell_id\")[\"cell_type\"])\n",
    "\n",
    "adata"
   ]
  },
  {
   "cell_type": "code",
   "execution_count": 8,
   "id": "7b5479c6",
   "metadata": {},
   "outputs": [
    {
     "name": "stderr",
     "output_type": "stream",
     "text": [
      "/pscratch/lji226_uksr/DMNN/.dtnn_env/lib/python3.13/site-packages/scanpy/preprocessing/_scale.py:317: UserWarning: Received a view of an AnnData. Making a copy.\n",
      "  view_to_actual(adata)\n"
     ]
    }
   ],
   "source": [
    "# Preprocessing\n",
    "sc.pp.filter_cells(adata, min_genes=200)\n",
    "sc.pp.filter_genes(adata, min_cells=3)\n",
    "sc.pp.normalize_total(adata, target_sum=1e4)\n",
    "sc.pp.log1p(adata)\n",
    "sc.pp.highly_variable_genes(adata, min_mean=0.0125, max_mean=3, min_disp=0.5)\n",
    "adata = adata[:, adata.var.highly_variable]\n",
    "sc.pp.scale(adata, max_value=10)"
   ]
  },
  {
   "cell_type": "code",
   "execution_count": 9,
   "id": "04854025",
   "metadata": {},
   "outputs": [
    {
     "name": "stdout",
     "output_type": "stream",
     "text": [
      "✅ Yan dataset processed and saved: (115, 8632)\n"
     ]
    }
   ],
   "source": [
    "\n",
    "# Save processed file\n",
    "adata.write(\"../data/processed/yan.h5ad\")\n",
    "print(\"✅ Yan dataset processed and saved:\", adata.shape)\n"
   ]
  },
  {
   "cell_type": "code",
   "execution_count": null,
   "id": "73838c2d",
   "metadata": {},
   "outputs": [],
   "source": []
  }
 ],
 "metadata": {
  "kernelspec": {
   "display_name": "Python 3",
   "language": "python",
   "name": "python3"
  },
  "language_info": {
   "codemirror_mode": {
    "name": "ipython",
    "version": 3
   },
   "file_extension": ".py",
   "mimetype": "text/x-python",
   "name": "python",
   "nbconvert_exporter": "python",
   "pygments_lexer": "ipython3",
   "version": "3.13.2"
  }
 },
 "nbformat": 4,
 "nbformat_minor": 5
}
